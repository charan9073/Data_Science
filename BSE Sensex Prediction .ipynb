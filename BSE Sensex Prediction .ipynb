{
 "cells": [
  {
   "cell_type": "code",
   "execution_count": 1,
   "metadata": {
    "ExecuteTime": {
     "end_time": "2020-04-02T19:46:17.609928Z",
     "start_time": "2020-04-02T19:46:02.454280Z"
    }
   },
   "outputs": [],
   "source": [
    "import pandas as pd\n",
    "import numpy as np\n",
    "import matplotlib.pyplot as plt\n",
    "%matplotlib inline\n",
    "import seaborn as sns\n",
    "import os"
   ]
  },
  {
   "cell_type": "code",
   "execution_count": 2,
   "metadata": {
    "ExecuteTime": {
     "end_time": "2020-04-02T19:46:22.448369Z",
     "start_time": "2020-04-02T19:46:22.440391Z"
    }
   },
   "outputs": [
    {
     "data": {
      "text/html": [
       "<style type=\"text/css\">\n",
       "table.dataframe td, table.dataframe th {\n",
       "    border: 2px  black solid !important;\n",
       "    color: black !important;\n",
       "}\n",
       "</style>\n"
      ],
      "text/plain": [
       "<IPython.core.display.HTML object>"
      ]
     },
     "metadata": {},
     "output_type": "display_data"
    }
   ],
   "source": [
    "%%HTML\n",
    "<style type=\"text/css\">\n",
    "table.dataframe td, table.dataframe th {\n",
    "    border: 2px  black solid !important;\n",
    "    color: black !important;\n",
    "}\n",
    "</style>"
   ]
  },
  {
   "cell_type": "code",
   "execution_count": 3,
   "metadata": {
    "ExecuteTime": {
     "end_time": "2020-04-02T19:46:26.525315Z",
     "start_time": "2020-04-02T19:46:26.273091Z"
    }
   },
   "outputs": [
    {
     "data": {
      "text/html": [
       "<div>\n",
       "<style scoped>\n",
       "    .dataframe tbody tr th:only-of-type {\n",
       "        vertical-align: middle;\n",
       "    }\n",
       "\n",
       "    .dataframe tbody tr th {\n",
       "        vertical-align: top;\n",
       "    }\n",
       "\n",
       "    .dataframe thead th {\n",
       "        text-align: right;\n",
       "    }\n",
       "</style>\n",
       "<table border=\"1\" class=\"dataframe\">\n",
       "  <thead>\n",
       "    <tr style=\"text-align: right;\">\n",
       "      <th></th>\n",
       "      <th>Date</th>\n",
       "      <th>Open</th>\n",
       "      <th>High</th>\n",
       "      <th>Low</th>\n",
       "      <th>Close</th>\n",
       "    </tr>\n",
       "  </thead>\n",
       "  <tbody>\n",
       "    <tr>\n",
       "      <th>0</th>\n",
       "      <td>1/1/2009</td>\n",
       "      <td>9720.55</td>\n",
       "      <td>9921.70</td>\n",
       "      <td>9711.64</td>\n",
       "      <td>9903.46</td>\n",
       "    </tr>\n",
       "    <tr>\n",
       "      <th>1</th>\n",
       "      <td>2/1/2009</td>\n",
       "      <td>9973.06</td>\n",
       "      <td>10070.28</td>\n",
       "      <td>9863.86</td>\n",
       "      <td>9958.22</td>\n",
       "    </tr>\n",
       "    <tr>\n",
       "      <th>2</th>\n",
       "      <td>5/1/2009</td>\n",
       "      <td>10109.67</td>\n",
       "      <td>10306.17</td>\n",
       "      <td>10069.11</td>\n",
       "      <td>10275.60</td>\n",
       "    </tr>\n",
       "    <tr>\n",
       "      <th>3</th>\n",
       "      <td>6/1/2009</td>\n",
       "      <td>10258.38</td>\n",
       "      <td>10392.12</td>\n",
       "      <td>10150.68</td>\n",
       "      <td>10335.93</td>\n",
       "    </tr>\n",
       "    <tr>\n",
       "      <th>4</th>\n",
       "      <td>7/1/2009</td>\n",
       "      <td>10424.96</td>\n",
       "      <td>10469.72</td>\n",
       "      <td>9510.15</td>\n",
       "      <td>9586.88</td>\n",
       "    </tr>\n",
       "  </tbody>\n",
       "</table>\n",
       "</div>"
      ],
      "text/plain": [
       "       Date      Open      High       Low     Close\n",
       "0  1/1/2009   9720.55   9921.70   9711.64   9903.46\n",
       "1  2/1/2009   9973.06  10070.28   9863.86   9958.22\n",
       "2  5/1/2009  10109.67  10306.17  10069.11  10275.60\n",
       "3  6/1/2009  10258.38  10392.12  10150.68  10335.93\n",
       "4  7/1/2009  10424.96  10469.72   9510.15   9586.88"
      ]
     },
     "execution_count": 3,
     "metadata": {},
     "output_type": "execute_result"
    }
   ],
   "source": [
    "# read csv\n",
    "\n",
    "df = pd.read_csv(\"CSVForDate.csv\")\n",
    "df.head()"
   ]
  },
  {
   "cell_type": "code",
   "execution_count": 4,
   "metadata": {
    "ExecuteTime": {
     "end_time": "2020-04-02T19:46:29.261480Z",
     "start_time": "2020-04-02T19:46:29.256493Z"
    }
   },
   "outputs": [
    {
     "data": {
      "text/plain": [
       "Index(['Date', 'Open', 'High', 'Low', 'Close'], dtype='object')"
      ]
     },
     "execution_count": 4,
     "metadata": {},
     "output_type": "execute_result"
    }
   ],
   "source": [
    "df.columns"
   ]
  },
  {
   "cell_type": "code",
   "execution_count": 5,
   "metadata": {
    "ExecuteTime": {
     "end_time": "2020-04-02T19:46:33.090401Z",
     "start_time": "2020-04-02T19:46:33.058466Z"
    }
   },
   "outputs": [
    {
     "data": {
      "text/plain": [
       "Date     0\n",
       "Open     0\n",
       "High     0\n",
       "Low      0\n",
       "Close    0\n",
       "dtype: int64"
      ]
     },
     "execution_count": 5,
     "metadata": {},
     "output_type": "execute_result"
    }
   ],
   "source": [
    "df.isnull().sum()"
   ]
  },
  {
   "cell_type": "code",
   "execution_count": 6,
   "metadata": {
    "ExecuteTime": {
     "end_time": "2020-04-02T19:46:39.754086Z",
     "start_time": "2020-04-02T19:46:39.704219Z"
    }
   },
   "outputs": [
    {
     "data": {
      "text/plain": [
       "str"
      ]
     },
     "execution_count": 6,
     "metadata": {},
     "output_type": "execute_result"
    }
   ],
   "source": [
    "#lets see if date is a date time series\n",
    "\n",
    "type(df.Date[0])"
   ]
  },
  {
   "cell_type": "code",
   "execution_count": 7,
   "metadata": {
    "ExecuteTime": {
     "end_time": "2020-04-02T19:46:42.702130Z",
     "start_time": "2020-04-02T19:46:42.696174Z"
    }
   },
   "outputs": [
    {
     "data": {
      "text/plain": [
       "Date      object\n",
       "Open     float64\n",
       "High     float64\n",
       "Low      float64\n",
       "Close    float64\n",
       "dtype: object"
      ]
     },
     "execution_count": 7,
     "metadata": {},
     "output_type": "execute_result"
    }
   ],
   "source": [
    "df.dtypes"
   ]
  },
  {
   "cell_type": "code",
   "execution_count": 8,
   "metadata": {
    "ExecuteTime": {
     "end_time": "2020-04-02T19:46:45.474821Z",
     "start_time": "2020-04-02T19:46:45.463851Z"
    }
   },
   "outputs": [
    {
     "name": "stdout",
     "output_type": "stream",
     "text": [
      "<class 'pandas.core.frame.DataFrame'>\n",
      "RangeIndex: 2557 entries, 0 to 2556\n",
      "Data columns (total 5 columns):\n",
      " #   Column  Non-Null Count  Dtype  \n",
      "---  ------  --------------  -----  \n",
      " 0   Date    2557 non-null   object \n",
      " 1   Open    2557 non-null   float64\n",
      " 2   High    2557 non-null   float64\n",
      " 3   Low     2557 non-null   float64\n",
      " 4   Close   2557 non-null   float64\n",
      "dtypes: float64(4), object(1)\n",
      "memory usage: 100.0+ KB\n"
     ]
    }
   ],
   "source": [
    "df.info()"
   ]
  },
  {
   "cell_type": "code",
   "execution_count": 9,
   "metadata": {
    "ExecuteTime": {
     "end_time": "2020-04-02T19:46:48.987339Z",
     "start_time": "2020-04-02T19:46:48.976369Z"
    }
   },
   "outputs": [
    {
     "data": {
      "text/html": [
       "<div>\n",
       "<style scoped>\n",
       "    .dataframe tbody tr th:only-of-type {\n",
       "        vertical-align: middle;\n",
       "    }\n",
       "\n",
       "    .dataframe tbody tr th {\n",
       "        vertical-align: top;\n",
       "    }\n",
       "\n",
       "    .dataframe thead th {\n",
       "        text-align: right;\n",
       "    }\n",
       "</style>\n",
       "<table border=\"1\" class=\"dataframe\">\n",
       "  <thead>\n",
       "    <tr style=\"text-align: right;\">\n",
       "      <th></th>\n",
       "      <th>Date</th>\n",
       "      <th>Open</th>\n",
       "      <th>High</th>\n",
       "      <th>Low</th>\n",
       "      <th>Close</th>\n",
       "    </tr>\n",
       "  </thead>\n",
       "  <tbody>\n",
       "    <tr>\n",
       "      <th>0</th>\n",
       "      <td>1/1/2009</td>\n",
       "      <td>9720.55</td>\n",
       "      <td>9921.70</td>\n",
       "      <td>9711.64</td>\n",
       "      <td>9903.46</td>\n",
       "    </tr>\n",
       "    <tr>\n",
       "      <th>1</th>\n",
       "      <td>2/1/2009</td>\n",
       "      <td>9973.06</td>\n",
       "      <td>10070.28</td>\n",
       "      <td>9863.86</td>\n",
       "      <td>9958.22</td>\n",
       "    </tr>\n",
       "    <tr>\n",
       "      <th>2</th>\n",
       "      <td>5/1/2009</td>\n",
       "      <td>10109.67</td>\n",
       "      <td>10306.17</td>\n",
       "      <td>10069.11</td>\n",
       "      <td>10275.60</td>\n",
       "    </tr>\n",
       "    <tr>\n",
       "      <th>3</th>\n",
       "      <td>6/1/2009</td>\n",
       "      <td>10258.38</td>\n",
       "      <td>10392.12</td>\n",
       "      <td>10150.68</td>\n",
       "      <td>10335.93</td>\n",
       "    </tr>\n",
       "    <tr>\n",
       "      <th>4</th>\n",
       "      <td>7/1/2009</td>\n",
       "      <td>10424.96</td>\n",
       "      <td>10469.72</td>\n",
       "      <td>9510.15</td>\n",
       "      <td>9586.88</td>\n",
       "    </tr>\n",
       "  </tbody>\n",
       "</table>\n",
       "</div>"
      ],
      "text/plain": [
       "       Date      Open      High       Low     Close\n",
       "0  1/1/2009   9720.55   9921.70   9711.64   9903.46\n",
       "1  2/1/2009   9973.06  10070.28   9863.86   9958.22\n",
       "2  5/1/2009  10109.67  10306.17  10069.11  10275.60\n",
       "3  6/1/2009  10258.38  10392.12  10150.68  10335.93\n",
       "4  7/1/2009  10424.96  10469.72   9510.15   9586.88"
      ]
     },
     "execution_count": 9,
     "metadata": {},
     "output_type": "execute_result"
    }
   ],
   "source": [
    "df.head()"
   ]
  },
  {
   "cell_type": "code",
   "execution_count": 10,
   "metadata": {
    "ExecuteTime": {
     "end_time": "2020-04-02T19:46:57.171572Z",
     "start_time": "2020-04-02T19:46:57.056766Z"
    }
   },
   "outputs": [],
   "source": [
    "df[\"Date\"] = pd.to_datetime(df[\"Date\"]) "
   ]
  },
  {
   "cell_type": "code",
   "execution_count": 11,
   "metadata": {
    "ExecuteTime": {
     "end_time": "2020-04-02T19:46:59.929083Z",
     "start_time": "2020-04-02T19:46:59.920106Z"
    }
   },
   "outputs": [
    {
     "name": "stdout",
     "output_type": "stream",
     "text": [
      "<class 'pandas.core.frame.DataFrame'>\n",
      "RangeIndex: 2557 entries, 0 to 2556\n",
      "Data columns (total 5 columns):\n",
      " #   Column  Non-Null Count  Dtype         \n",
      "---  ------  --------------  -----         \n",
      " 0   Date    2557 non-null   datetime64[ns]\n",
      " 1   Open    2557 non-null   float64       \n",
      " 2   High    2557 non-null   float64       \n",
      " 3   Low     2557 non-null   float64       \n",
      " 4   Close   2557 non-null   float64       \n",
      "dtypes: datetime64[ns](1), float64(4)\n",
      "memory usage: 100.0 KB\n"
     ]
    }
   ],
   "source": [
    "df.info()"
   ]
  },
  {
   "cell_type": "code",
   "execution_count": 12,
   "metadata": {
    "ExecuteTime": {
     "end_time": "2020-04-02T19:47:02.991441Z",
     "start_time": "2020-04-02T19:47:02.985457Z"
    }
   },
   "outputs": [
    {
     "data": {
      "text/plain": [
       "pandas._libs.tslibs.timestamps.Timestamp"
      ]
     },
     "execution_count": 12,
     "metadata": {},
     "output_type": "execute_result"
    }
   ],
   "source": [
    "type(df.Date[0])"
   ]
  },
  {
   "cell_type": "code",
   "execution_count": 13,
   "metadata": {
    "ExecuteTime": {
     "end_time": "2020-04-02T19:47:05.469395Z",
     "start_time": "2020-04-02T19:47:05.464409Z"
    }
   },
   "outputs": [
    {
     "data": {
      "text/plain": [
       "numpy.float64"
      ]
     },
     "execution_count": 13,
     "metadata": {},
     "output_type": "execute_result"
    }
   ],
   "source": [
    "type(df.Close[0])"
   ]
  },
  {
   "cell_type": "code",
   "execution_count": 14,
   "metadata": {
    "ExecuteTime": {
     "end_time": "2020-04-02T19:47:12.108871Z",
     "start_time": "2020-04-02T19:47:12.103875Z"
    }
   },
   "outputs": [],
   "source": [
    "#lets make Date as index\n",
    "\n",
    "df.set_index(\"Date\", inplace=True)"
   ]
  },
  {
   "cell_type": "code",
   "execution_count": 15,
   "metadata": {
    "ExecuteTime": {
     "end_time": "2020-04-02T19:47:15.930071Z",
     "start_time": "2020-04-02T19:47:15.904118Z"
    }
   },
   "outputs": [
    {
     "data": {
      "text/plain": [
       "DatetimeIndex(['2009-01-01', '2009-02-01', '2009-05-01', '2009-06-01',\n",
       "               '2009-07-01', '2009-09-01', '2009-12-01', '2009-01-13',\n",
       "               '2009-01-14', '2009-01-15',\n",
       "               ...\n",
       "               '2019-12-04', '2019-04-15', '2019-04-16', '2019-04-18',\n",
       "               '2019-04-22', '2019-04-23', '2019-04-24', '2019-04-25',\n",
       "               '2019-04-26', '2019-04-30'],\n",
       "              dtype='datetime64[ns]', name='Date', length=2557, freq=None)"
      ]
     },
     "execution_count": 15,
     "metadata": {},
     "output_type": "execute_result"
    }
   ],
   "source": [
    "df.index"
   ]
  },
  {
   "cell_type": "code",
   "execution_count": 17,
   "metadata": {
    "ExecuteTime": {
     "end_time": "2020-04-02T19:47:51.459774Z",
     "start_time": "2020-04-02T19:47:51.448802Z"
    }
   },
   "outputs": [
    {
     "data": {
      "text/html": [
       "<div>\n",
       "<style scoped>\n",
       "    .dataframe tbody tr th:only-of-type {\n",
       "        vertical-align: middle;\n",
       "    }\n",
       "\n",
       "    .dataframe tbody tr th {\n",
       "        vertical-align: top;\n",
       "    }\n",
       "\n",
       "    .dataframe thead th {\n",
       "        text-align: right;\n",
       "    }\n",
       "</style>\n",
       "<table border=\"1\" class=\"dataframe\">\n",
       "  <thead>\n",
       "    <tr style=\"text-align: right;\">\n",
       "      <th></th>\n",
       "      <th>Open</th>\n",
       "      <th>High</th>\n",
       "      <th>Low</th>\n",
       "      <th>Close</th>\n",
       "    </tr>\n",
       "    <tr>\n",
       "      <th>Date</th>\n",
       "      <th></th>\n",
       "      <th></th>\n",
       "      <th></th>\n",
       "      <th></th>\n",
       "    </tr>\n",
       "  </thead>\n",
       "  <tbody>\n",
       "    <tr>\n",
       "      <th>2009-01-01</th>\n",
       "      <td>9720.55</td>\n",
       "      <td>9921.70</td>\n",
       "      <td>9711.64</td>\n",
       "      <td>9903.46</td>\n",
       "    </tr>\n",
       "    <tr>\n",
       "      <th>2009-02-01</th>\n",
       "      <td>9973.06</td>\n",
       "      <td>10070.28</td>\n",
       "      <td>9863.86</td>\n",
       "      <td>9958.22</td>\n",
       "    </tr>\n",
       "    <tr>\n",
       "      <th>2009-05-01</th>\n",
       "      <td>10109.67</td>\n",
       "      <td>10306.17</td>\n",
       "      <td>10069.11</td>\n",
       "      <td>10275.60</td>\n",
       "    </tr>\n",
       "    <tr>\n",
       "      <th>2009-06-01</th>\n",
       "      <td>10258.38</td>\n",
       "      <td>10392.12</td>\n",
       "      <td>10150.68</td>\n",
       "      <td>10335.93</td>\n",
       "    </tr>\n",
       "    <tr>\n",
       "      <th>2009-07-01</th>\n",
       "      <td>10424.96</td>\n",
       "      <td>10469.72</td>\n",
       "      <td>9510.15</td>\n",
       "      <td>9586.88</td>\n",
       "    </tr>\n",
       "  </tbody>\n",
       "</table>\n",
       "</div>"
      ],
      "text/plain": [
       "                Open      High       Low     Close\n",
       "Date                                              \n",
       "2009-01-01   9720.55   9921.70   9711.64   9903.46\n",
       "2009-02-01   9973.06  10070.28   9863.86   9958.22\n",
       "2009-05-01  10109.67  10306.17  10069.11  10275.60\n",
       "2009-06-01  10258.38  10392.12  10150.68  10335.93\n",
       "2009-07-01  10424.96  10469.72   9510.15   9586.88"
      ]
     },
     "execution_count": 17,
     "metadata": {},
     "output_type": "execute_result"
    }
   ],
   "source": [
    "df.head()"
   ]
  },
  {
   "cell_type": "code",
   "execution_count": 18,
   "metadata": {
    "ExecuteTime": {
     "end_time": "2020-04-02T19:47:55.572374Z",
     "start_time": "2020-04-02T19:47:55.538421Z"
    }
   },
   "outputs": [
    {
     "data": {
      "text/html": [
       "<div>\n",
       "<style scoped>\n",
       "    .dataframe tbody tr th:only-of-type {\n",
       "        vertical-align: middle;\n",
       "    }\n",
       "\n",
       "    .dataframe tbody tr th {\n",
       "        vertical-align: top;\n",
       "    }\n",
       "\n",
       "    .dataframe thead th {\n",
       "        text-align: right;\n",
       "    }\n",
       "</style>\n",
       "<table border=\"1\" class=\"dataframe\">\n",
       "  <thead>\n",
       "    <tr style=\"text-align: right;\">\n",
       "      <th></th>\n",
       "      <th>Open</th>\n",
       "      <th>High</th>\n",
       "      <th>Low</th>\n",
       "      <th>Close</th>\n",
       "    </tr>\n",
       "    <tr>\n",
       "      <th>Date</th>\n",
       "      <th></th>\n",
       "      <th></th>\n",
       "      <th></th>\n",
       "      <th></th>\n",
       "    </tr>\n",
       "  </thead>\n",
       "  <tbody>\n",
       "    <tr>\n",
       "      <th>2009-01-01</th>\n",
       "      <td>9720.55</td>\n",
       "      <td>9921.70</td>\n",
       "      <td>9711.64</td>\n",
       "      <td>9903.46</td>\n",
       "    </tr>\n",
       "    <tr>\n",
       "      <th>2009-02-01</th>\n",
       "      <td>9973.06</td>\n",
       "      <td>10070.28</td>\n",
       "      <td>9863.86</td>\n",
       "      <td>9958.22</td>\n",
       "    </tr>\n",
       "    <tr>\n",
       "      <th>2009-01-13</th>\n",
       "      <td>9042.36</td>\n",
       "      <td>9261.00</td>\n",
       "      <td>8992.92</td>\n",
       "      <td>9071.36</td>\n",
       "    </tr>\n",
       "    <tr>\n",
       "      <th>2009-01-14</th>\n",
       "      <td>9207.52</td>\n",
       "      <td>9412.97</td>\n",
       "      <td>9202.57</td>\n",
       "      <td>9370.49</td>\n",
       "    </tr>\n",
       "    <tr>\n",
       "      <th>2009-01-15</th>\n",
       "      <td>9098.08</td>\n",
       "      <td>9123.78</td>\n",
       "      <td>8946.62</td>\n",
       "      <td>9046.74</td>\n",
       "    </tr>\n",
       "    <tr>\n",
       "      <th>2009-01-16</th>\n",
       "      <td>9125.65</td>\n",
       "      <td>9342.47</td>\n",
       "      <td>9125.65</td>\n",
       "      <td>9323.59</td>\n",
       "    </tr>\n",
       "    <tr>\n",
       "      <th>2009-01-19</th>\n",
       "      <td>9381.78</td>\n",
       "      <td>9409.51</td>\n",
       "      <td>9273.47</td>\n",
       "      <td>9329.57</td>\n",
       "    </tr>\n",
       "    <tr>\n",
       "      <th>2009-01-20</th>\n",
       "      <td>9159.76</td>\n",
       "      <td>9159.76</td>\n",
       "      <td>9033.55</td>\n",
       "      <td>9100.55</td>\n",
       "    </tr>\n",
       "    <tr>\n",
       "      <th>2009-01-21</th>\n",
       "      <td>8900.78</td>\n",
       "      <td>9051.31</td>\n",
       "      <td>8734.93</td>\n",
       "      <td>8779.17</td>\n",
       "    </tr>\n",
       "    <tr>\n",
       "      <th>2009-01-22</th>\n",
       "      <td>8905.97</td>\n",
       "      <td>8927.69</td>\n",
       "      <td>8699.32</td>\n",
       "      <td>8813.84</td>\n",
       "    </tr>\n",
       "    <tr>\n",
       "      <th>2009-01-23</th>\n",
       "      <td>8804.15</td>\n",
       "      <td>8858.84</td>\n",
       "      <td>8631.60</td>\n",
       "      <td>8674.35</td>\n",
       "    </tr>\n",
       "    <tr>\n",
       "      <th>2009-01-27</th>\n",
       "      <td>8803.07</td>\n",
       "      <td>9021.97</td>\n",
       "      <td>8789.06</td>\n",
       "      <td>9004.08</td>\n",
       "    </tr>\n",
       "    <tr>\n",
       "      <th>2009-01-28</th>\n",
       "      <td>9077.65</td>\n",
       "      <td>9270.75</td>\n",
       "      <td>9053.80</td>\n",
       "      <td>9257.47</td>\n",
       "    </tr>\n",
       "    <tr>\n",
       "      <th>2009-01-29</th>\n",
       "      <td>9334.47</td>\n",
       "      <td>9379.68</td>\n",
       "      <td>9164.96</td>\n",
       "      <td>9236.28</td>\n",
       "    </tr>\n",
       "    <tr>\n",
       "      <th>2009-01-30</th>\n",
       "      <td>9111.12</td>\n",
       "      <td>9438.31</td>\n",
       "      <td>9087.36</td>\n",
       "      <td>9424.24</td>\n",
       "    </tr>\n",
       "    <tr>\n",
       "      <th>2009-02-02</th>\n",
       "      <td>9363.58</td>\n",
       "      <td>9363.58</td>\n",
       "      <td>9048.97</td>\n",
       "      <td>9066.70</td>\n",
       "    </tr>\n",
       "    <tr>\n",
       "      <th>2009-02-13</th>\n",
       "      <td>9540.60</td>\n",
       "      <td>9695.59</td>\n",
       "      <td>9540.60</td>\n",
       "      <td>9634.74</td>\n",
       "    </tr>\n",
       "    <tr>\n",
       "      <th>2009-02-16</th>\n",
       "      <td>9637.04</td>\n",
       "      <td>9637.04</td>\n",
       "      <td>9279.10</td>\n",
       "      <td>9305.45</td>\n",
       "    </tr>\n",
       "    <tr>\n",
       "      <th>2009-02-17</th>\n",
       "      <td>9213.40</td>\n",
       "      <td>9213.40</td>\n",
       "      <td>8994.34</td>\n",
       "      <td>9035.00</td>\n",
       "    </tr>\n",
       "    <tr>\n",
       "      <th>2009-02-18</th>\n",
       "      <td>8939.38</td>\n",
       "      <td>9113.92</td>\n",
       "      <td>8922.31</td>\n",
       "      <td>9015.18</td>\n",
       "    </tr>\n",
       "    <tr>\n",
       "      <th>2009-02-19</th>\n",
       "      <td>9034.90</td>\n",
       "      <td>9111.95</td>\n",
       "      <td>8977.66</td>\n",
       "      <td>9042.63</td>\n",
       "    </tr>\n",
       "    <tr>\n",
       "      <th>2009-02-20</th>\n",
       "      <td>8943.78</td>\n",
       "      <td>8943.78</td>\n",
       "      <td>8762.58</td>\n",
       "      <td>8843.21</td>\n",
       "    </tr>\n",
       "    <tr>\n",
       "      <th>2009-02-24</th>\n",
       "      <td>8707.35</td>\n",
       "      <td>8856.52</td>\n",
       "      <td>8619.22</td>\n",
       "      <td>8822.06</td>\n",
       "    </tr>\n",
       "    <tr>\n",
       "      <th>2009-02-25</th>\n",
       "      <td>8913.44</td>\n",
       "      <td>8995.04</td>\n",
       "      <td>8879.72</td>\n",
       "      <td>8902.56</td>\n",
       "    </tr>\n",
       "    <tr>\n",
       "      <th>2009-02-26</th>\n",
       "      <td>8905.56</td>\n",
       "      <td>8998.31</td>\n",
       "      <td>8788.32</td>\n",
       "      <td>8954.86</td>\n",
       "    </tr>\n",
       "    <tr>\n",
       "      <th>2009-02-27</th>\n",
       "      <td>8944.11</td>\n",
       "      <td>8944.11</td>\n",
       "      <td>8728.66</td>\n",
       "      <td>8891.61</td>\n",
       "    </tr>\n",
       "    <tr>\n",
       "      <th>2009-02-03</th>\n",
       "      <td>8762.88</td>\n",
       "      <td>8762.88</td>\n",
       "      <td>8563.52</td>\n",
       "      <td>8607.08</td>\n",
       "    </tr>\n",
       "    <tr>\n",
       "      <th>2009-01-04</th>\n",
       "      <td>9745.77</td>\n",
       "      <td>9921.96</td>\n",
       "      <td>9546.29</td>\n",
       "      <td>9901.99</td>\n",
       "    </tr>\n",
       "    <tr>\n",
       "      <th>2009-02-04</th>\n",
       "      <td>10107.25</td>\n",
       "      <td>10432.31</td>\n",
       "      <td>10107.25</td>\n",
       "      <td>10348.83</td>\n",
       "    </tr>\n",
       "    <tr>\n",
       "      <th>2009-01-06</th>\n",
       "      <td>14746.51</td>\n",
       "      <td>14906.81</td>\n",
       "      <td>14655.49</td>\n",
       "      <td>14840.63</td>\n",
       "    </tr>\n",
       "    <tr>\n",
       "      <th>2009-02-06</th>\n",
       "      <td>14892.93</td>\n",
       "      <td>14994.31</td>\n",
       "      <td>14608.23</td>\n",
       "      <td>14874.91</td>\n",
       "    </tr>\n",
       "    <tr>\n",
       "      <th>2009-01-07</th>\n",
       "      <td>14506.43</td>\n",
       "      <td>14727.49</td>\n",
       "      <td>14355.52</td>\n",
       "      <td>14645.47</td>\n",
       "    </tr>\n",
       "    <tr>\n",
       "      <th>2009-02-07</th>\n",
       "      <td>14694.31</td>\n",
       "      <td>14764.35</td>\n",
       "      <td>14469.69</td>\n",
       "      <td>14658.49</td>\n",
       "    </tr>\n",
       "    <tr>\n",
       "      <th>2009-01-09</th>\n",
       "      <td>15691.27</td>\n",
       "      <td>15923.09</td>\n",
       "      <td>15475.28</td>\n",
       "      <td>15551.19</td>\n",
       "    </tr>\n",
       "    <tr>\n",
       "      <th>2009-02-09</th>\n",
       "      <td>15482.05</td>\n",
       "      <td>15628.10</td>\n",
       "      <td>15392.68</td>\n",
       "      <td>15467.46</td>\n",
       "    </tr>\n",
       "    <tr>\n",
       "      <th>2009-01-10</th>\n",
       "      <td>17186.20</td>\n",
       "      <td>17195.61</td>\n",
       "      <td>17059.36</td>\n",
       "      <td>17134.55</td>\n",
       "    </tr>\n",
       "    <tr>\n",
       "      <th>2009-01-12</th>\n",
       "      <td>16947.46</td>\n",
       "      <td>17218.46</td>\n",
       "      <td>16947.46</td>\n",
       "      <td>17198.27</td>\n",
       "    </tr>\n",
       "    <tr>\n",
       "      <th>2009-02-12</th>\n",
       "      <td>17226.49</td>\n",
       "      <td>17329.68</td>\n",
       "      <td>17142.36</td>\n",
       "      <td>17169.91</td>\n",
       "    </tr>\n",
       "  </tbody>\n",
       "</table>\n",
       "</div>"
      ],
      "text/plain": [
       "                Open      High       Low     Close\n",
       "Date                                              \n",
       "2009-01-01   9720.55   9921.70   9711.64   9903.46\n",
       "2009-02-01   9973.06  10070.28   9863.86   9958.22\n",
       "2009-01-13   9042.36   9261.00   8992.92   9071.36\n",
       "2009-01-14   9207.52   9412.97   9202.57   9370.49\n",
       "2009-01-15   9098.08   9123.78   8946.62   9046.74\n",
       "2009-01-16   9125.65   9342.47   9125.65   9323.59\n",
       "2009-01-19   9381.78   9409.51   9273.47   9329.57\n",
       "2009-01-20   9159.76   9159.76   9033.55   9100.55\n",
       "2009-01-21   8900.78   9051.31   8734.93   8779.17\n",
       "2009-01-22   8905.97   8927.69   8699.32   8813.84\n",
       "2009-01-23   8804.15   8858.84   8631.60   8674.35\n",
       "2009-01-27   8803.07   9021.97   8789.06   9004.08\n",
       "2009-01-28   9077.65   9270.75   9053.80   9257.47\n",
       "2009-01-29   9334.47   9379.68   9164.96   9236.28\n",
       "2009-01-30   9111.12   9438.31   9087.36   9424.24\n",
       "2009-02-02   9363.58   9363.58   9048.97   9066.70\n",
       "2009-02-13   9540.60   9695.59   9540.60   9634.74\n",
       "2009-02-16   9637.04   9637.04   9279.10   9305.45\n",
       "2009-02-17   9213.40   9213.40   8994.34   9035.00\n",
       "2009-02-18   8939.38   9113.92   8922.31   9015.18\n",
       "2009-02-19   9034.90   9111.95   8977.66   9042.63\n",
       "2009-02-20   8943.78   8943.78   8762.58   8843.21\n",
       "2009-02-24   8707.35   8856.52   8619.22   8822.06\n",
       "2009-02-25   8913.44   8995.04   8879.72   8902.56\n",
       "2009-02-26   8905.56   8998.31   8788.32   8954.86\n",
       "2009-02-27   8944.11   8944.11   8728.66   8891.61\n",
       "2009-02-03   8762.88   8762.88   8563.52   8607.08\n",
       "2009-01-04   9745.77   9921.96   9546.29   9901.99\n",
       "2009-02-04  10107.25  10432.31  10107.25  10348.83\n",
       "2009-01-06  14746.51  14906.81  14655.49  14840.63\n",
       "2009-02-06  14892.93  14994.31  14608.23  14874.91\n",
       "2009-01-07  14506.43  14727.49  14355.52  14645.47\n",
       "2009-02-07  14694.31  14764.35  14469.69  14658.49\n",
       "2009-01-09  15691.27  15923.09  15475.28  15551.19\n",
       "2009-02-09  15482.05  15628.10  15392.68  15467.46\n",
       "2009-01-10  17186.20  17195.61  17059.36  17134.55\n",
       "2009-01-12  16947.46  17218.46  16947.46  17198.27\n",
       "2009-02-12  17226.49  17329.68  17142.36  17169.91"
      ]
     },
     "execution_count": 18,
     "metadata": {},
     "output_type": "execute_result"
    }
   ],
   "source": [
    "df[\"2009-01\" : \"2009-02\"]"
   ]
  },
  {
   "cell_type": "code",
   "execution_count": 18,
   "metadata": {},
   "outputs": [
    {
     "data": {
      "text/html": [
       "<div>\n",
       "<style scoped>\n",
       "    .dataframe tbody tr th:only-of-type {\n",
       "        vertical-align: middle;\n",
       "    }\n",
       "\n",
       "    .dataframe tbody tr th {\n",
       "        vertical-align: top;\n",
       "    }\n",
       "\n",
       "    .dataframe thead th {\n",
       "        text-align: right;\n",
       "    }\n",
       "</style>\n",
       "<table border=\"1\" class=\"dataframe\">\n",
       "  <thead>\n",
       "    <tr style=\"text-align: right;\">\n",
       "      <th></th>\n",
       "      <th>Open</th>\n",
       "      <th>High</th>\n",
       "      <th>Low</th>\n",
       "      <th>Close</th>\n",
       "    </tr>\n",
       "    <tr>\n",
       "      <th>Date</th>\n",
       "      <th></th>\n",
       "      <th></th>\n",
       "      <th></th>\n",
       "      <th></th>\n",
       "    </tr>\n",
       "  </thead>\n",
       "  <tbody>\n",
       "    <tr>\n",
       "      <th>2009-01-01</th>\n",
       "      <td>9720.55</td>\n",
       "      <td>9921.70</td>\n",
       "      <td>9711.64</td>\n",
       "      <td>9903.46</td>\n",
       "    </tr>\n",
       "    <tr>\n",
       "      <th>2009-01-13</th>\n",
       "      <td>9042.36</td>\n",
       "      <td>9261.00</td>\n",
       "      <td>8992.92</td>\n",
       "      <td>9071.36</td>\n",
       "    </tr>\n",
       "    <tr>\n",
       "      <th>2009-01-14</th>\n",
       "      <td>9207.52</td>\n",
       "      <td>9412.97</td>\n",
       "      <td>9202.57</td>\n",
       "      <td>9370.49</td>\n",
       "    </tr>\n",
       "    <tr>\n",
       "      <th>2009-01-15</th>\n",
       "      <td>9098.08</td>\n",
       "      <td>9123.78</td>\n",
       "      <td>8946.62</td>\n",
       "      <td>9046.74</td>\n",
       "    </tr>\n",
       "    <tr>\n",
       "      <th>2009-01-16</th>\n",
       "      <td>9125.65</td>\n",
       "      <td>9342.47</td>\n",
       "      <td>9125.65</td>\n",
       "      <td>9323.59</td>\n",
       "    </tr>\n",
       "    <tr>\n",
       "      <th>2009-01-19</th>\n",
       "      <td>9381.78</td>\n",
       "      <td>9409.51</td>\n",
       "      <td>9273.47</td>\n",
       "      <td>9329.57</td>\n",
       "    </tr>\n",
       "    <tr>\n",
       "      <th>2009-01-20</th>\n",
       "      <td>9159.76</td>\n",
       "      <td>9159.76</td>\n",
       "      <td>9033.55</td>\n",
       "      <td>9100.55</td>\n",
       "    </tr>\n",
       "    <tr>\n",
       "      <th>2009-01-21</th>\n",
       "      <td>8900.78</td>\n",
       "      <td>9051.31</td>\n",
       "      <td>8734.93</td>\n",
       "      <td>8779.17</td>\n",
       "    </tr>\n",
       "    <tr>\n",
       "      <th>2009-01-22</th>\n",
       "      <td>8905.97</td>\n",
       "      <td>8927.69</td>\n",
       "      <td>8699.32</td>\n",
       "      <td>8813.84</td>\n",
       "    </tr>\n",
       "    <tr>\n",
       "      <th>2009-01-23</th>\n",
       "      <td>8804.15</td>\n",
       "      <td>8858.84</td>\n",
       "      <td>8631.60</td>\n",
       "      <td>8674.35</td>\n",
       "    </tr>\n",
       "    <tr>\n",
       "      <th>2009-01-27</th>\n",
       "      <td>8803.07</td>\n",
       "      <td>9021.97</td>\n",
       "      <td>8789.06</td>\n",
       "      <td>9004.08</td>\n",
       "    </tr>\n",
       "    <tr>\n",
       "      <th>2009-01-28</th>\n",
       "      <td>9077.65</td>\n",
       "      <td>9270.75</td>\n",
       "      <td>9053.80</td>\n",
       "      <td>9257.47</td>\n",
       "    </tr>\n",
       "    <tr>\n",
       "      <th>2009-01-29</th>\n",
       "      <td>9334.47</td>\n",
       "      <td>9379.68</td>\n",
       "      <td>9164.96</td>\n",
       "      <td>9236.28</td>\n",
       "    </tr>\n",
       "    <tr>\n",
       "      <th>2009-01-30</th>\n",
       "      <td>9111.12</td>\n",
       "      <td>9438.31</td>\n",
       "      <td>9087.36</td>\n",
       "      <td>9424.24</td>\n",
       "    </tr>\n",
       "    <tr>\n",
       "      <th>2009-01-04</th>\n",
       "      <td>9745.77</td>\n",
       "      <td>9921.96</td>\n",
       "      <td>9546.29</td>\n",
       "      <td>9901.99</td>\n",
       "    </tr>\n",
       "    <tr>\n",
       "      <th>2009-01-06</th>\n",
       "      <td>14746.51</td>\n",
       "      <td>14906.81</td>\n",
       "      <td>14655.49</td>\n",
       "      <td>14840.63</td>\n",
       "    </tr>\n",
       "    <tr>\n",
       "      <th>2009-01-07</th>\n",
       "      <td>14506.43</td>\n",
       "      <td>14727.49</td>\n",
       "      <td>14355.52</td>\n",
       "      <td>14645.47</td>\n",
       "    </tr>\n",
       "    <tr>\n",
       "      <th>2009-01-09</th>\n",
       "      <td>15691.27</td>\n",
       "      <td>15923.09</td>\n",
       "      <td>15475.28</td>\n",
       "      <td>15551.19</td>\n",
       "    </tr>\n",
       "    <tr>\n",
       "      <th>2009-01-10</th>\n",
       "      <td>17186.20</td>\n",
       "      <td>17195.61</td>\n",
       "      <td>17059.36</td>\n",
       "      <td>17134.55</td>\n",
       "    </tr>\n",
       "    <tr>\n",
       "      <th>2009-01-12</th>\n",
       "      <td>16947.46</td>\n",
       "      <td>17218.46</td>\n",
       "      <td>16947.46</td>\n",
       "      <td>17198.27</td>\n",
       "    </tr>\n",
       "  </tbody>\n",
       "</table>\n",
       "</div>"
      ],
      "text/plain": [
       "                Open      High       Low     Close\n",
       "Date                                              \n",
       "2009-01-01   9720.55   9921.70   9711.64   9903.46\n",
       "2009-01-13   9042.36   9261.00   8992.92   9071.36\n",
       "2009-01-14   9207.52   9412.97   9202.57   9370.49\n",
       "2009-01-15   9098.08   9123.78   8946.62   9046.74\n",
       "2009-01-16   9125.65   9342.47   9125.65   9323.59\n",
       "2009-01-19   9381.78   9409.51   9273.47   9329.57\n",
       "2009-01-20   9159.76   9159.76   9033.55   9100.55\n",
       "2009-01-21   8900.78   9051.31   8734.93   8779.17\n",
       "2009-01-22   8905.97   8927.69   8699.32   8813.84\n",
       "2009-01-23   8804.15   8858.84   8631.60   8674.35\n",
       "2009-01-27   8803.07   9021.97   8789.06   9004.08\n",
       "2009-01-28   9077.65   9270.75   9053.80   9257.47\n",
       "2009-01-29   9334.47   9379.68   9164.96   9236.28\n",
       "2009-01-30   9111.12   9438.31   9087.36   9424.24\n",
       "2009-01-04   9745.77   9921.96   9546.29   9901.99\n",
       "2009-01-06  14746.51  14906.81  14655.49  14840.63\n",
       "2009-01-07  14506.43  14727.49  14355.52  14645.47\n",
       "2009-01-09  15691.27  15923.09  15475.28  15551.19\n",
       "2009-01-10  17186.20  17195.61  17059.36  17134.55\n",
       "2009-01-12  16947.46  17218.46  16947.46  17198.27"
      ]
     },
     "execution_count": 18,
     "metadata": {},
     "output_type": "execute_result"
    }
   ],
   "source": [
    "#lets see data of January only\n",
    "df[\"2009-01\"]"
   ]
  },
  {
   "cell_type": "code",
   "execution_count": 19,
   "metadata": {
    "ExecuteTime": {
     "end_time": "2020-04-02T19:48:00.388256Z",
     "start_time": "2020-04-02T19:48:00.352373Z"
    }
   },
   "outputs": [],
   "source": [
    "df.sort_index(inplace=True)\n",
    "df_jan = df[\"2009-01\"] # #January data in sorted way"
   ]
  },
  {
   "cell_type": "code",
   "execution_count": 20,
   "metadata": {},
   "outputs": [
    {
     "data": {
      "text/html": [
       "<div>\n",
       "<style scoped>\n",
       "    .dataframe tbody tr th:only-of-type {\n",
       "        vertical-align: middle;\n",
       "    }\n",
       "\n",
       "    .dataframe tbody tr th {\n",
       "        vertical-align: top;\n",
       "    }\n",
       "\n",
       "    .dataframe thead th {\n",
       "        text-align: right;\n",
       "    }\n",
       "</style>\n",
       "<table border=\"1\" class=\"dataframe\">\n",
       "  <thead>\n",
       "    <tr style=\"text-align: right;\">\n",
       "      <th></th>\n",
       "      <th>Open</th>\n",
       "      <th>High</th>\n",
       "      <th>Low</th>\n",
       "      <th>Close</th>\n",
       "    </tr>\n",
       "    <tr>\n",
       "      <th>Date</th>\n",
       "      <th></th>\n",
       "      <th></th>\n",
       "      <th></th>\n",
       "      <th></th>\n",
       "    </tr>\n",
       "  </thead>\n",
       "  <tbody>\n",
       "    <tr>\n",
       "      <th>2009-01-01</th>\n",
       "      <td>9720.55</td>\n",
       "      <td>9921.70</td>\n",
       "      <td>9711.64</td>\n",
       "      <td>9903.46</td>\n",
       "    </tr>\n",
       "    <tr>\n",
       "      <th>2009-01-04</th>\n",
       "      <td>9745.77</td>\n",
       "      <td>9921.96</td>\n",
       "      <td>9546.29</td>\n",
       "      <td>9901.99</td>\n",
       "    </tr>\n",
       "    <tr>\n",
       "      <th>2009-01-06</th>\n",
       "      <td>14746.51</td>\n",
       "      <td>14906.81</td>\n",
       "      <td>14655.49</td>\n",
       "      <td>14840.63</td>\n",
       "    </tr>\n",
       "    <tr>\n",
       "      <th>2009-01-07</th>\n",
       "      <td>14506.43</td>\n",
       "      <td>14727.49</td>\n",
       "      <td>14355.52</td>\n",
       "      <td>14645.47</td>\n",
       "    </tr>\n",
       "    <tr>\n",
       "      <th>2009-01-09</th>\n",
       "      <td>15691.27</td>\n",
       "      <td>15923.09</td>\n",
       "      <td>15475.28</td>\n",
       "      <td>15551.19</td>\n",
       "    </tr>\n",
       "    <tr>\n",
       "      <th>2009-01-10</th>\n",
       "      <td>17186.20</td>\n",
       "      <td>17195.61</td>\n",
       "      <td>17059.36</td>\n",
       "      <td>17134.55</td>\n",
       "    </tr>\n",
       "    <tr>\n",
       "      <th>2009-01-12</th>\n",
       "      <td>16947.46</td>\n",
       "      <td>17218.46</td>\n",
       "      <td>16947.46</td>\n",
       "      <td>17198.27</td>\n",
       "    </tr>\n",
       "    <tr>\n",
       "      <th>2009-01-13</th>\n",
       "      <td>9042.36</td>\n",
       "      <td>9261.00</td>\n",
       "      <td>8992.92</td>\n",
       "      <td>9071.36</td>\n",
       "    </tr>\n",
       "    <tr>\n",
       "      <th>2009-01-14</th>\n",
       "      <td>9207.52</td>\n",
       "      <td>9412.97</td>\n",
       "      <td>9202.57</td>\n",
       "      <td>9370.49</td>\n",
       "    </tr>\n",
       "    <tr>\n",
       "      <th>2009-01-15</th>\n",
       "      <td>9098.08</td>\n",
       "      <td>9123.78</td>\n",
       "      <td>8946.62</td>\n",
       "      <td>9046.74</td>\n",
       "    </tr>\n",
       "    <tr>\n",
       "      <th>2009-01-16</th>\n",
       "      <td>9125.65</td>\n",
       "      <td>9342.47</td>\n",
       "      <td>9125.65</td>\n",
       "      <td>9323.59</td>\n",
       "    </tr>\n",
       "    <tr>\n",
       "      <th>2009-01-19</th>\n",
       "      <td>9381.78</td>\n",
       "      <td>9409.51</td>\n",
       "      <td>9273.47</td>\n",
       "      <td>9329.57</td>\n",
       "    </tr>\n",
       "    <tr>\n",
       "      <th>2009-01-20</th>\n",
       "      <td>9159.76</td>\n",
       "      <td>9159.76</td>\n",
       "      <td>9033.55</td>\n",
       "      <td>9100.55</td>\n",
       "    </tr>\n",
       "    <tr>\n",
       "      <th>2009-01-21</th>\n",
       "      <td>8900.78</td>\n",
       "      <td>9051.31</td>\n",
       "      <td>8734.93</td>\n",
       "      <td>8779.17</td>\n",
       "    </tr>\n",
       "    <tr>\n",
       "      <th>2009-01-22</th>\n",
       "      <td>8905.97</td>\n",
       "      <td>8927.69</td>\n",
       "      <td>8699.32</td>\n",
       "      <td>8813.84</td>\n",
       "    </tr>\n",
       "    <tr>\n",
       "      <th>2009-01-23</th>\n",
       "      <td>8804.15</td>\n",
       "      <td>8858.84</td>\n",
       "      <td>8631.60</td>\n",
       "      <td>8674.35</td>\n",
       "    </tr>\n",
       "    <tr>\n",
       "      <th>2009-01-27</th>\n",
       "      <td>8803.07</td>\n",
       "      <td>9021.97</td>\n",
       "      <td>8789.06</td>\n",
       "      <td>9004.08</td>\n",
       "    </tr>\n",
       "    <tr>\n",
       "      <th>2009-01-28</th>\n",
       "      <td>9077.65</td>\n",
       "      <td>9270.75</td>\n",
       "      <td>9053.80</td>\n",
       "      <td>9257.47</td>\n",
       "    </tr>\n",
       "    <tr>\n",
       "      <th>2009-01-29</th>\n",
       "      <td>9334.47</td>\n",
       "      <td>9379.68</td>\n",
       "      <td>9164.96</td>\n",
       "      <td>9236.28</td>\n",
       "    </tr>\n",
       "    <tr>\n",
       "      <th>2009-01-30</th>\n",
       "      <td>9111.12</td>\n",
       "      <td>9438.31</td>\n",
       "      <td>9087.36</td>\n",
       "      <td>9424.24</td>\n",
       "    </tr>\n",
       "  </tbody>\n",
       "</table>\n",
       "</div>"
      ],
      "text/plain": [
       "                Open      High       Low     Close\n",
       "Date                                              \n",
       "2009-01-01   9720.55   9921.70   9711.64   9903.46\n",
       "2009-01-04   9745.77   9921.96   9546.29   9901.99\n",
       "2009-01-06  14746.51  14906.81  14655.49  14840.63\n",
       "2009-01-07  14506.43  14727.49  14355.52  14645.47\n",
       "2009-01-09  15691.27  15923.09  15475.28  15551.19\n",
       "2009-01-10  17186.20  17195.61  17059.36  17134.55\n",
       "2009-01-12  16947.46  17218.46  16947.46  17198.27\n",
       "2009-01-13   9042.36   9261.00   8992.92   9071.36\n",
       "2009-01-14   9207.52   9412.97   9202.57   9370.49\n",
       "2009-01-15   9098.08   9123.78   8946.62   9046.74\n",
       "2009-01-16   9125.65   9342.47   9125.65   9323.59\n",
       "2009-01-19   9381.78   9409.51   9273.47   9329.57\n",
       "2009-01-20   9159.76   9159.76   9033.55   9100.55\n",
       "2009-01-21   8900.78   9051.31   8734.93   8779.17\n",
       "2009-01-22   8905.97   8927.69   8699.32   8813.84\n",
       "2009-01-23   8804.15   8858.84   8631.60   8674.35\n",
       "2009-01-27   8803.07   9021.97   8789.06   9004.08\n",
       "2009-01-28   9077.65   9270.75   9053.80   9257.47\n",
       "2009-01-29   9334.47   9379.68   9164.96   9236.28\n",
       "2009-01-30   9111.12   9438.31   9087.36   9424.24"
      ]
     },
     "execution_count": 20,
     "metadata": {},
     "output_type": "execute_result"
    }
   ],
   "source": [
    "df_jan #january dataset created for see the trend in January"
   ]
  },
  {
   "cell_type": "code",
   "execution_count": 20,
   "metadata": {
    "ExecuteTime": {
     "end_time": "2020-04-02T19:48:04.135064Z",
     "start_time": "2020-04-02T19:48:03.736743Z"
    }
   },
   "outputs": [
    {
     "data": {
      "text/plain": [
       "<matplotlib.axes._subplots.AxesSubplot at 0x17023022808>"
      ]
     },
     "execution_count": 20,
     "metadata": {},
     "output_type": "execute_result"
    },
    {
     "data": {
      "image/png": "[encoded data removed]",
      "text/plain": [
       "<Figure size 432x288 with 1 Axes>"
      ]
     },
     "metadata": {
      "needs_background": "light"
     },
     "output_type": "display_data"
    }
   ],
   "source": [
    "sns.distplot(df_jan[\"Open\"])"
   ]
  },
  {
   "cell_type": "code",
   "execution_count": 21,
   "metadata": {
    "ExecuteTime": {
     "end_time": "2020-04-02T19:48:06.890291Z",
     "start_time": "2020-04-02T19:48:06.775806Z"
    }
   },
   "outputs": [
    {
     "data": {
      "text/plain": [
       "Date\n",
       "2009-01-31    10880.364500\n",
       "2009-02-28    10588.827778\n",
       "2009-03-31    11079.713810\n",
       "2009-04-30    12124.201000\n",
       "2009-05-31    13357.290000\n",
       "                  ...     \n",
       "2019-08-31    36974.842500\n",
       "2019-09-30    37576.065000\n",
       "2019-10-31    37345.925000\n",
       "2019-11-30    37016.495000\n",
       "2019-12-31    37485.463333\n",
       "Freq: M, Name: Close, Length: 132, dtype: float64"
      ]
     },
     "execution_count": 21,
     "metadata": {},
     "output_type": "execute_result"
    }
   ],
   "source": [
    "df.Close.resample(\"M\").mean()"
   ]
  },
  {
   "cell_type": "code",
   "execution_count": 22,
   "metadata": {
    "ExecuteTime": {
     "end_time": "2020-04-02T19:48:10.671486Z",
     "start_time": "2020-04-02T19:48:09.959631Z"
    }
   },
   "outputs": [
    {
     "data": {
      "text/plain": [
       "<matplotlib.axes._subplots.AxesSubplot at 0x1702380bd48>"
      ]
     },
     "execution_count": 22,
     "metadata": {},
     "output_type": "execute_result"
    },
    {
     "data": {
      "image/png": "[encoded data removed]",
      "text/plain": [
       "<Figure size 720x720 with 2 Axes>"
      ]
     },
     "metadata": {
      "needs_background": "light"
     },
     "output_type": "display_data"
    }
   ],
   "source": [
    "#plotting the above data to see the trend\n",
    "plt.figure(figsize=(10,10))\n",
    "plt.subplot(2,2,1)\n",
    "df.Close.resample(\"M\").mean().plot()\n",
    "plt.subplot(2,2,2)\n",
    "#lets plot data quarterly\n",
    "df.Close.resample(\"Q\").mean().plot()"
   ]
  },
  {
   "cell_type": "code",
   "execution_count": 23,
   "metadata": {
    "ExecuteTime": {
     "end_time": "2020-04-02T19:48:14.415102Z",
     "start_time": "2020-04-02T19:48:14.151727Z"
    }
   },
   "outputs": [
    {
     "data": {
      "text/plain": [
       "Text(0, 0.5, 'close Price')"
      ]
     },
     "execution_count": 23,
     "metadata": {},
     "output_type": "execute_result"
    },
    {
     "data": {
      "image/png": "[encoded data removed]",
      "text/plain": [
       "<Figure size 432x288 with 1 Axes>"
      ]
     },
     "metadata": {
      "needs_background": "light"
     },
     "output_type": "display_data"
    }
   ],
   "source": [
    "#plt.scatter(df[\"Open\"],df[\"Close\"],data=df)\n",
    "#plt.xlabel(\"Open price\")\n",
    "#plt.ylabel(\"close Price\")\n",
    "\n",
    "plt.scatter(x = \"Open\", y = \"Close\", data = df)\n",
    "plt.xlabel(\"Open price\")\n",
    "plt.ylabel(\"close Price\")"
   ]
  },
  {
   "cell_type": "code",
   "execution_count": 24,
   "metadata": {
    "ExecuteTime": {
     "end_time": "2020-04-02T19:48:20.393977Z",
     "start_time": "2020-04-02T19:48:19.224804Z"
    }
   },
   "outputs": [
    {
     "data": {
      "text/plain": [
       "<matplotlib.axes._subplots.AxesSubplot at 0x170239d7cc8>"
      ]
     },
     "execution_count": 24,
     "metadata": {},
     "output_type": "execute_result"
    },
    {
     "data": {
      "image/png": "[encoded data removed]",
      "text/plain": [
       "<Figure size 432x288 with 1 Axes>"
      ]
     },
     "metadata": {
      "needs_background": "light"
     },
     "output_type": "display_data"
    }
   ],
   "source": [
    "sns.lineplot(df[\"Open\"],df[\"Close\"],data=df,color=\"r\")"
   ]
  },
  {
   "cell_type": "code",
   "execution_count": 25,
   "metadata": {
    "ExecuteTime": {
     "end_time": "2020-04-02T19:48:23.642882Z",
     "start_time": "2020-04-02T19:48:23.631941Z"
    }
   },
   "outputs": [
    {
     "data": {
      "text/html": [
       "<div>\n",
       "<style scoped>\n",
       "    .dataframe tbody tr th:only-of-type {\n",
       "        vertical-align: middle;\n",
       "    }\n",
       "\n",
       "    .dataframe tbody tr th {\n",
       "        vertical-align: top;\n",
       "    }\n",
       "\n",
       "    .dataframe thead th {\n",
       "        text-align: right;\n",
       "    }\n",
       "</style>\n",
       "<table border=\"1\" class=\"dataframe\">\n",
       "  <thead>\n",
       "    <tr style=\"text-align: right;\">\n",
       "      <th></th>\n",
       "      <th>Open</th>\n",
       "      <th>High</th>\n",
       "      <th>Low</th>\n",
       "      <th>Close</th>\n",
       "    </tr>\n",
       "    <tr>\n",
       "      <th>Date</th>\n",
       "      <th></th>\n",
       "      <th></th>\n",
       "      <th></th>\n",
       "      <th></th>\n",
       "    </tr>\n",
       "  </thead>\n",
       "  <tbody>\n",
       "    <tr>\n",
       "      <th>2009-01-01</th>\n",
       "      <td>9720.55</td>\n",
       "      <td>9921.70</td>\n",
       "      <td>9711.64</td>\n",
       "      <td>9903.46</td>\n",
       "    </tr>\n",
       "    <tr>\n",
       "      <th>2009-01-04</th>\n",
       "      <td>9745.77</td>\n",
       "      <td>9921.96</td>\n",
       "      <td>9546.29</td>\n",
       "      <td>9901.99</td>\n",
       "    </tr>\n",
       "    <tr>\n",
       "      <th>2009-01-06</th>\n",
       "      <td>14746.51</td>\n",
       "      <td>14906.81</td>\n",
       "      <td>14655.49</td>\n",
       "      <td>14840.63</td>\n",
       "    </tr>\n",
       "    <tr>\n",
       "      <th>2009-01-07</th>\n",
       "      <td>14506.43</td>\n",
       "      <td>14727.49</td>\n",
       "      <td>14355.52</td>\n",
       "      <td>14645.47</td>\n",
       "    </tr>\n",
       "    <tr>\n",
       "      <th>2009-01-09</th>\n",
       "      <td>15691.27</td>\n",
       "      <td>15923.09</td>\n",
       "      <td>15475.28</td>\n",
       "      <td>15551.19</td>\n",
       "    </tr>\n",
       "  </tbody>\n",
       "</table>\n",
       "</div>"
      ],
      "text/plain": [
       "                Open      High       Low     Close\n",
       "Date                                              \n",
       "2009-01-01   9720.55   9921.70   9711.64   9903.46\n",
       "2009-01-04   9745.77   9921.96   9546.29   9901.99\n",
       "2009-01-06  14746.51  14906.81  14655.49  14840.63\n",
       "2009-01-07  14506.43  14727.49  14355.52  14645.47\n",
       "2009-01-09  15691.27  15923.09  15475.28  15551.19"
      ]
     },
     "execution_count": 25,
     "metadata": {},
     "output_type": "execute_result"
    }
   ],
   "source": [
    "df.head()"
   ]
  },
  {
   "cell_type": "code",
   "execution_count": 26,
   "metadata": {
    "ExecuteTime": {
     "end_time": "2020-04-02T19:48:27.009985Z",
     "start_time": "2020-04-02T19:48:26.985081Z"
    }
   },
   "outputs": [
    {
     "data": {
      "text/html": [
       "<div>\n",
       "<style scoped>\n",
       "    .dataframe tbody tr th:only-of-type {\n",
       "        vertical-align: middle;\n",
       "    }\n",
       "\n",
       "    .dataframe tbody tr th {\n",
       "        vertical-align: top;\n",
       "    }\n",
       "\n",
       "    .dataframe thead th {\n",
       "        text-align: right;\n",
       "    }\n",
       "</style>\n",
       "<table border=\"1\" class=\"dataframe\">\n",
       "  <thead>\n",
       "    <tr style=\"text-align: right;\">\n",
       "      <th></th>\n",
       "      <th>Open</th>\n",
       "      <th>High</th>\n",
       "      <th>Low</th>\n",
       "    </tr>\n",
       "  </thead>\n",
       "  <tbody>\n",
       "    <tr>\n",
       "      <th>Open</th>\n",
       "      <td>1.000000</td>\n",
       "      <td>0.999863</td>\n",
       "      <td>0.999789</td>\n",
       "    </tr>\n",
       "    <tr>\n",
       "      <th>High</th>\n",
       "      <td>0.999863</td>\n",
       "      <td>1.000000</td>\n",
       "      <td>0.999801</td>\n",
       "    </tr>\n",
       "    <tr>\n",
       "      <th>Low</th>\n",
       "      <td>0.999789</td>\n",
       "      <td>0.999801</td>\n",
       "      <td>1.000000</td>\n",
       "    </tr>\n",
       "  </tbody>\n",
       "</table>\n",
       "</div>"
      ],
      "text/plain": [
       "          Open      High       Low\n",
       "Open  1.000000  0.999863  0.999789\n",
       "High  0.999863  1.000000  0.999801\n",
       "Low   0.999789  0.999801  1.000000"
      ]
     },
     "execution_count": 26,
     "metadata": {},
     "output_type": "execute_result"
    }
   ],
   "source": [
    "#feature correlation\n",
    "df1=df[[\"Open\",\"High\",\"Low\"]]\n",
    "df1.corr()"
   ]
  },
  {
   "cell_type": "code",
   "execution_count": 27,
   "metadata": {
    "ExecuteTime": {
     "end_time": "2020-04-02T19:48:30.811256Z",
     "start_time": "2020-04-02T19:48:30.808292Z"
    }
   },
   "outputs": [],
   "source": [
    "#Data is highly correlated hence it will give us a bad model so use only 1 feature\n",
    "X=df[\"Open\"].values.reshape(-1,1)"
   ]
  },
  {
   "cell_type": "code",
   "execution_count": 28,
   "metadata": {
    "ExecuteTime": {
     "end_time": "2020-04-02T19:48:34.052109Z",
     "start_time": "2020-04-02T19:48:34.049114Z"
    }
   },
   "outputs": [],
   "source": [
    "#Label\n",
    "y=df[\"Close\"]"
   ]
  },
  {
   "cell_type": "code",
   "execution_count": 29,
   "metadata": {
    "ExecuteTime": {
     "end_time": "2020-04-02T19:48:42.067136Z",
     "start_time": "2020-04-02T19:48:39.176005Z"
    }
   },
   "outputs": [],
   "source": [
    "#train test and split\n",
    "from sklearn.model_selection import train_test_split\n",
    "X_train,X_test,y_train,y_test= train_test_split(X,y,test_size=0.2,random_state=1)"
   ]
  },
  {
   "cell_type": "code",
   "execution_count": 30,
   "metadata": {
    "ExecuteTime": {
     "end_time": "2020-04-02T19:48:43.945749Z",
     "start_time": "2020-04-02T19:48:43.927798Z"
    }
   },
   "outputs": [
    {
     "data": {
      "text/plain": [
       "MinMaxScaler(copy=True, feature_range=(0, 1))"
      ]
     },
     "execution_count": 30,
     "metadata": {},
     "output_type": "execute_result"
    }
   ],
   "source": [
    "#lets  do the feature scaling for an acurate model\n",
    "from sklearn.preprocessing import MinMaxScaler\n",
    "mm=MinMaxScaler()\n",
    "mm.fit(X_train,y_train)"
   ]
  },
  {
   "cell_type": "code",
   "execution_count": 31,
   "metadata": {
    "ExecuteTime": {
     "end_time": "2020-04-02T19:48:48.515987Z",
     "start_time": "2020-04-02T19:48:48.168708Z"
    }
   },
   "outputs": [
    {
     "data": {
      "text/plain": [
       "LinearRegression(copy_X=True, fit_intercept=True, n_jobs=None, normalize=False)"
      ]
     },
     "execution_count": 31,
     "metadata": {},
     "output_type": "execute_result"
    }
   ],
   "source": [
    "from sklearn.linear_model import LinearRegression\n",
    "lreg=LinearRegression()\n",
    "lreg.fit(X_train,y_train)"
   ]
  },
  {
   "cell_type": "code",
   "execution_count": 34,
   "metadata": {
    "ExecuteTime": {
     "end_time": "2020-04-02T19:50:52.316398Z",
     "start_time": "2020-04-02T19:50:52.311412Z"
    }
   },
   "outputs": [
    {
     "name": "stdout",
     "output_type": "stream",
     "text": [
      "0.9992075190747792\n"
     ]
    }
   ],
   "source": [
    "results = lreg.score(X_test,y_test)\n",
    "print(results)"
   ]
  },
  {
   "cell_type": "code",
   "execution_count": 38,
   "metadata": {
    "ExecuteTime": {
     "end_time": "2020-04-02T20:02:25.745656Z",
     "start_time": "2020-04-02T20:02:25.597026Z"
    }
   },
   "outputs": [
    {
     "ename": "NameError",
     "evalue": "name 'y_pred' is not defined",
     "output_type": "error",
     "traceback": [
      "\u001b[1;31m---------------------------------------------------------------------------\u001b[0m",
      "\u001b[1;31mNameError\u001b[0m                                 Traceback (most recent call last)",
      "\u001b[1;32m<ipython-input-38-26f76b93287d>\u001b[0m in \u001b[0;36m<module>\u001b[1;34m\u001b[0m\n\u001b[0;32m      1\u001b[0m \u001b[0mplt\u001b[0m\u001b[1;33m.\u001b[0m\u001b[0mscatter\u001b[0m\u001b[1;33m(\u001b[0m\u001b[0mX_test\u001b[0m\u001b[1;33m,\u001b[0m \u001b[0my_test\u001b[0m\u001b[1;33m,\u001b[0m  \u001b[0mcolor\u001b[0m\u001b[1;33m=\u001b[0m\u001b[1;34m'gray'\u001b[0m\u001b[1;33m)\u001b[0m\u001b[1;33m\u001b[0m\u001b[1;33m\u001b[0m\u001b[0m\n\u001b[1;32m----> 2\u001b[1;33m \u001b[0mplt\u001b[0m\u001b[1;33m.\u001b[0m\u001b[0mplot\u001b[0m\u001b[1;33m(\u001b[0m\u001b[0mX_test\u001b[0m\u001b[1;33m,\u001b[0m \u001b[0my_pred\u001b[0m\u001b[1;33m,\u001b[0m \u001b[0mcolor\u001b[0m\u001b[1;33m=\u001b[0m\u001b[1;34m'red'\u001b[0m\u001b[1;33m,\u001b[0m \u001b[0mlinewidth\u001b[0m\u001b[1;33m=\u001b[0m\u001b[1;36m2\u001b[0m\u001b[1;33m)\u001b[0m\u001b[1;33m\u001b[0m\u001b[1;33m\u001b[0m\u001b[0m\n\u001b[0m\u001b[0;32m      3\u001b[0m \u001b[0mplt\u001b[0m\u001b[1;33m.\u001b[0m\u001b[0mshow\u001b[0m\u001b[1;33m(\u001b[0m\u001b[1;33m)\u001b[0m\u001b[1;33m\u001b[0m\u001b[1;33m\u001b[0m\u001b[0m\n",
      "\u001b[1;31mNameError\u001b[0m: name 'y_pred' is not defined"
     ]
    },
    {
     "data": {
      "image/png": "[encoded data removed]",
      "text/plain": [
       "<Figure size 432x288 with 1 Axes>"
      ]
     },
     "metadata": {
      "needs_background": "light"
     },
     "output_type": "display_data"
    }
   ],
   "source": [
    "plt.scatter(X_test, y_test,  color='gray')\n",
    "plt.plot(X_test, y_pred, color='red', linewidth=2)\n",
    "plt.show()\n"
   ]
  },
  {
   "cell_type": "code",
   "execution_count": 39,
   "metadata": {
    "ExecuteTime": {
     "end_time": "2020-04-02T20:03:49.301738Z",
     "start_time": "2020-04-02T20:03:49.295753Z"
    }
   },
   "outputs": [
    {
     "name": "stdout",
     "output_type": "stream",
     "text": [
      "41.464783293940854\n",
      "[0.99732024]\n"
     ]
    }
   ],
   "source": [
    "#To retrieve the intercept:\n",
    "print(lreg.intercept_)\n",
    "#For retrieving the slope:\n",
    "print(lreg.coef_)"
   ]
  },
  {
   "cell_type": "code",
   "execution_count": 41,
   "metadata": {
    "ExecuteTime": {
     "end_time": "2020-04-02T20:04:39.656953Z",
     "start_time": "2020-04-02T20:04:39.646979Z"
    }
   },
   "outputs": [
    {
     "name": "stdout",
     "output_type": "stream",
     "text": [
      "[25588.10205029 18170.07397773 34692.30943042 17487.39829838\n",
      " 36601.93833837 16943.50970402 25888.27549694 17266.95063193\n",
      " 22493.36747111 15690.68598831 23787.08131677 31330.91136474\n",
      " 25380.2505385  27447.69540166 19365.54180628 27096.82816707\n",
      " 19437.73781865 27700.26675313 19706.56549007 22394.20391937\n",
      " 17320.85579105 28347.22839459 20033.79623491 17365.8449072\n",
      " 26960.06564219 18108.47947954 27617.15008411 17453.43954412\n",
      " 32211.01655933 19668.60748163 17553.26132721 27909.62421849\n",
      " 35075.48984087 27520.65935062 26590.3091622  17977.99009898\n",
      " 19862.50648322 35045.40068915 18965.57649614 20607.81387381\n",
      " 27737.83580668 25082.27119638 18125.5735485  25420.99107042\n",
      " 35498.66279306 26847.91698089 20565.87655761 20516.19006311\n",
      " 33618.5844839  14904.14937889 34392.58477787 16254.43122871\n",
      " 16342.00591923 18053.17807208 30575.9499142   9040.32522618\n",
      " 20831.37317942 16497.53801108 26320.72352739 18264.77950798\n",
      " 33159.46811016 25641.38887086 17427.63886944 31852.22062881\n",
      " 38559.5483232  17409.59734625 25686.39793341 17869.53152259\n",
      " 33952.79647044 26159.78595982 16971.76378649 18282.23261223\n",
      " 24931.82543777 27572.53994965 16134.09456823 27149.80581837\n",
      " 17625.85626768 27623.14397876 27946.55498707 28789.4102706\n",
      " 24953.38750141 35204.29375022 30869.60088647 26647.19630884\n",
      " 37584.45834869  8553.62297453 19094.23080745 16875.61214189\n",
      " 26426.778562   17922.50917388 38355.16748586  8123.49870025\n",
      " 18417.93797765 37487.26949104 15738.33794951 22503.57005719\n",
      " 33340.46178781 19207.92531512 19599.62284045 27818.63869274\n",
      " 26895.47918327 16153.7218306  25756.84863536 27273.91234937\n",
      " 25469.52067343 27372.2182057  32829.84379674 36665.46763783\n",
      " 35205.11155282 20313.65426822 19074.38413462 34442.72006647\n",
      " 17035.65212124 26785.01599319 15862.3846413  24498.8787472\n",
      " 20200.74764354 25964.22143343 18881.65199771 17366.6627098\n",
      " 34380.8064258  16253.23444442 20902.95085324 20751.86680967\n",
      " 29099.45718766 18347.57703453 25828.30663075 20711.44542023\n",
      " 20067.96442643 27542.61036916 26700.23379935 18864.51803594\n",
      " 27313.03722249 20718.34687631 17498.02973217 23202.66162773\n",
      " 33296.34034027 15487.93078297 27370.93166258 27873.87028778\n",
      " 27921.41254375 38977.14625524 27326.38136734 34383.32964602\n",
      " 26311.19911907 31669.98030086 18564.30469648 28129.40368037\n",
      " 25678.92800479 17539.55814708 34481.8748592  17227.84570522\n",
      " 16220.48244765 27418.97257867 25649.70652168 18436.27869692\n",
      " 25770.38227105 31210.42510622 19080.62735934 16188.86739596\n",
      " 31523.11492192 17695.99780035 19559.03190657 18307.06588627\n",
      " 19504.04964159 34352.94129822 24053.79466928 20686.41268214\n",
      " 19987.69012009 19566.19266591 19356.82522736 12006.68474372\n",
      " 16903.89614398 16646.89669063 25553.06619016 31180.30603489\n",
      " 34353.41003874 28447.05017768 19716.61847812 14954.83319362\n",
      " 19664.54838825 16085.0962247  18277.21609141 28791.71408036\n",
      " 20081.8271778  18234.82998109 36190.10491734 16135.6404146\n",
      " 31695.15266379 18261.5681368  18645.07766293  9094.78888464\n",
      " 34386.16203551 29957.11270359 21118.93052501 33931.16459437\n",
      " 26466.75115733 16335.82253372 21780.66247925 26580.8645395\n",
      " 36243.45157712 26224.59182919 35398.81109036 18447.80771892\n",
      " 17521.41689186 17043.65062959 19434.77577753 39355.86864421\n",
      " 22764.06013139 18292.97375124 17239.6938697  17909.58390353\n",
      " 35536.88010476 35225.30728773 26438.80624413 31308.9802926\n",
      " 16801.32175701 16665.04791905 25398.65109698 26144.79623657\n",
      " 18134.35993984 32361.04344345 14832.6913835  16293.71567307\n",
      " 31713.23407979 27282.70871391 20459.46248771 16220.36276922\n",
      " 16774.79303855 36265.31283685 26350.19434056 26803.09740919\n",
      " 25538.14627933 17695.10021213 26379.31609165 17918.59967853\n",
      " 18219.78041863 30269.95211733 17661.96923367 25197.54147003\n",
      " 24516.67094033 28415.64456324 27096.03031088 31642.36450334\n",
      " 18192.65330803 21901.55763908 15966.16578576 19834.70119486\n",
      " 26210.53958697 26101.70202888 16294.82269854 18887.06744663\n",
      " 20436.49420252 17606.34868373 14817.66176744 28190.86852693\n",
      " 18142.72745667 15891.94521329 17345.34000301  9648.86011869\n",
      " 38853.08959024 16596.72150922 19723.85902308 25633.27068408\n",
      " 34605.22342682 17432.8049883  18476.64024714 18682.39738642\n",
      " 18620.17457647 27834.70552185 31838.82661795 10051.36859545\n",
      " 34635.72147984 33767.93319025 17354.90430414 28175.20062592\n",
      " 36340.62048837 28731.24655405 24806.96094338 17425.44476491\n",
      " 20187.53315033 16971.73386689 17220.84451711 29478.8577544\n",
      " 18310.69613195 29717.46662247 32610.70261981 27771.53525768\n",
      " 18417.26977309 31274.4530658  35766.00445733 38410.3990809\n",
      " 19987.64025408 18218.8329644  28254.87654011 35905.29020243\n",
      " 20855.14929401  8811.78929256 38835.82597684 32146.32039519\n",
      " 25075.10046384 27206.82261664 17909.05532381 14979.82603891\n",
      " 17144.58941135 28332.61765303 31075.1685349  18993.31197209\n",
      " 16769.26788441 19938.22303605 26783.98875334 35920.8085054\n",
      " 21076.40478986 19455.58985099 27887.30419145 20852.71583262\n",
      " 16863.21545127 19168.8403348  35729.3230188  35151.78483944\n",
      " 17065.14288082 26460.78718228 16853.52149852 19913.82858292\n",
      " 17447.25615862 26293.58644358 25864.56919477 26703.00634963\n",
      " 26275.87403607 19589.22079031 25394.83136045 24946.55585775\n",
      " 31313.35852847 35857.21936673 17444.63320638 32305.48273272\n",
      " 19571.4884364  16252.47648104 34105.56598522 25570.0804735\n",
      " 29373.97955767 19759.51322176 19388.84918035 17172.36478011\n",
      " 24956.73849743 17668.80087733 18543.93941712 20980.59223414\n",
      " 19538.12807428 19280.68980003 19824.73796563 38796.2124168\n",
      " 27635.38109814 33840.0394438  26457.9946856  18231.12992299\n",
      " 27199.43247364 18017.1149721  35648.95895364 19282.77419933\n",
      " 16207.21808842 27774.76657527 19200.24594925 20603.59520919\n",
      " 20681.48592014 35234.89153527 15993.74169047 15441.03678515\n",
      " 28066.26333581 18550.06296341 26095.31917933 19557.81517587\n",
      " 20106.37122898 26222.49745668 25833.63232084 18832.46416334\n",
      " 27176.31459042 27772.89161321 24457.71934078 20805.25336227\n",
      " 20448.61164347 35145.22247224 31866.77153115 25717.1752361\n",
      " 18614.26046743 19408.40663031 24764.43520823 26876.77942872\n",
      " 27497.9503687  16935.6508205  19703.05492282 31882.05047727\n",
      " 38926.63198494 18683.52435829 29527.95582995 17452.63171472\n",
      " 16117.34956135 31888.09423794 19214.0388882  32767.56114758\n",
      " 26587.05789821 34968.81646771 33407.83077021 17535.01036677\n",
      " 20582.67143049 27763.31733888 25863.11310722 27775.57440466\n",
      " 19654.30590935 35963.43397258 35065.97540576 17397.071004\n",
      " 16512.8269304  17746.11314255 19985.70545281 38642.58520661\n",
      " 27221.77244708 20303.60128018 17183.29540997 35502.01378908\n",
      " 38287.09040609 20081.71747258 18416.81100578 18683.20521581\n",
      " 18269.82594841 27579.03250443 20026.42603832 25809.93599188\n",
      " 16697.98940666 18556.66522342 17186.41702233 27794.15448078\n",
      " 28559.83712393 18485.4964509  18749.726476   25577.76981257\n",
      " 21027.04741104 25670.26129188 34824.1352201  27201.17778407\n",
      " 21143.5743082  18764.60649402 19467.9366756  26381.35062494\n",
      " 19974.22629681 23666.59505824 29991.19113629 28490.6729651\n",
      " 34695.39114997 20770.96549232 26386.60650262  9458.46171115\n",
      " 24883.74462886 28921.65493479 34507.41623062 26708.2323077\n",
      " 25338.24340988 17269.24446849 27533.08596085 16068.18167338\n",
      " 18732.34318417 35275.7018796  18403.3272361   8278.55207839\n",
      " 16491.24492035 27284.69338119 29313.41229933 34702.13303481\n",
      " 11161.05690992 27508.12303517 13921.43987772 33188.15104034\n",
      " 18721.56215235 31351.26667089 25928.32787789 21036.05321284\n",
      " 20147.9894027  19932.31890022 17424.71672113 14047.21193353\n",
      " 26693.860923   17644.98486994 29050.76801341 33269.90138064\n",
      " 20521.0470127  20116.52394905 35776.62591791 36234.69510539\n",
      " 29397.496369   19457.75403592 31154.72477066 17933.70908021\n",
      " 19869.12868964 19808.91049338 26681.03538468 17052.36720851\n",
      " 25213.32904948 26518.99079164 17397.50982491 26522.76066216\n",
      " 15534.5056383  20074.52679363 36802.08056468 16798.8284564\n",
      " 21810.47238131 21068.49604033 31174.17251539 31707.1105335\n",
      " 24973.26409385 17113.73232304 27648.775109   18337.42431446]\n"
     ]
    }
   ],
   "source": [
    "y_pred = lreg.predict(X_test)\n",
    "print(y_pred)"
   ]
  },
  {
   "cell_type": "code",
   "execution_count": 43,
   "metadata": {
    "ExecuteTime": {
     "end_time": "2020-04-02T20:08:48.632462Z",
     "start_time": "2020-04-02T20:08:48.599578Z"
    }
   },
   "outputs": [
    {
     "data": {
      "text/html": [
       "<div>\n",
       "<style scoped>\n",
       "    .dataframe tbody tr th:only-of-type {\n",
       "        vertical-align: middle;\n",
       "    }\n",
       "\n",
       "    .dataframe tbody tr th {\n",
       "        vertical-align: top;\n",
       "    }\n",
       "\n",
       "    .dataframe thead th {\n",
       "        text-align: right;\n",
       "    }\n",
       "</style>\n",
       "<table border=\"1\" class=\"dataframe\">\n",
       "  <thead>\n",
       "    <tr style=\"text-align: right;\">\n",
       "      <th></th>\n",
       "      <th>Actual</th>\n",
       "      <th>Predicted</th>\n",
       "    </tr>\n",
       "    <tr>\n",
       "      <th>Date</th>\n",
       "      <th></th>\n",
       "      <th></th>\n",
       "    </tr>\n",
       "  </thead>\n",
       "  <tbody>\n",
       "    <tr>\n",
       "      <th>2014-09-07</th>\n",
       "      <td>25444.81</td>\n",
       "      <td>25588.102050</td>\n",
       "    </tr>\n",
       "    <tr>\n",
       "      <th>2011-05-18</th>\n",
       "      <td>18086.20</td>\n",
       "      <td>18170.073978</td>\n",
       "    </tr>\n",
       "    <tr>\n",
       "      <th>2018-02-11</th>\n",
       "      <td>35011.65</td>\n",
       "      <td>34692.309430</td>\n",
       "    </tr>\n",
       "    <tr>\n",
       "      <th>2010-03-18</th>\n",
       "      <td>17519.26</td>\n",
       "      <td>17487.398298</td>\n",
       "    </tr>\n",
       "    <tr>\n",
       "      <th>2018-07-16</th>\n",
       "      <td>36323.77</td>\n",
       "      <td>36601.938338</td>\n",
       "    </tr>\n",
       "    <tr>\n",
       "      <th>...</th>\n",
       "      <td>...</td>\n",
       "      <td>...</td>\n",
       "    </tr>\n",
       "    <tr>\n",
       "      <th>2017-10-08</th>\n",
       "      <td>31531.33</td>\n",
       "      <td>31707.110533</td>\n",
       "    </tr>\n",
       "    <tr>\n",
       "      <th>2016-07-04</th>\n",
       "      <td>24685.42</td>\n",
       "      <td>24973.264094</td>\n",
       "    </tr>\n",
       "    <tr>\n",
       "      <th>2009-12-14</th>\n",
       "      <td>17097.55</td>\n",
       "      <td>17113.732323</td>\n",
       "    </tr>\n",
       "    <tr>\n",
       "      <th>2015-09-07</th>\n",
       "      <td>27573.66</td>\n",
       "      <td>27648.775109</td>\n",
       "    </tr>\n",
       "    <tr>\n",
       "      <th>2011-02-17</th>\n",
       "      <td>18506.82</td>\n",
       "      <td>18337.424314</td>\n",
       "    </tr>\n",
       "  </tbody>\n",
       "</table>\n",
       "<p>512 rows × 2 columns</p>\n",
       "</div>"
      ],
      "text/plain": [
       "              Actual     Predicted\n",
       "Date                              \n",
       "2014-09-07  25444.81  25588.102050\n",
       "2011-05-18  18086.20  18170.073978\n",
       "2018-02-11  35011.65  34692.309430\n",
       "2010-03-18  17519.26  17487.398298\n",
       "2018-07-16  36323.77  36601.938338\n",
       "...              ...           ...\n",
       "2017-10-08  31531.33  31707.110533\n",
       "2016-07-04  24685.42  24973.264094\n",
       "2009-12-14  17097.55  17113.732323\n",
       "2015-09-07  27573.66  27648.775109\n",
       "2011-02-17  18506.82  18337.424314\n",
       "\n",
       "[512 rows x 2 columns]"
      ]
     },
     "execution_count": 43,
     "metadata": {},
     "output_type": "execute_result"
    }
   ],
   "source": [
    "df = pd.DataFrame({'Actual': y_test, 'Predicted': y_pred})\n",
    "df"
   ]
  },
  {
   "cell_type": "code",
   "execution_count": 44,
   "metadata": {
    "ExecuteTime": {
     "end_time": "2020-04-02T20:09:21.872140Z",
     "start_time": "2020-04-02T20:09:21.447248Z"
    }
   },
   "outputs": [
    {
     "data": {
      "image/png": "[encoded data removed]",
      "text/plain": [
       "<Figure size 1152x720 with 1 Axes>"
      ]
     },
     "metadata": {
      "needs_background": "light"
     },
     "output_type": "display_data"
    }
   ],
   "source": [
    "df1 = df.head(25)\n",
    "df1.plot(kind='bar',figsize=(16,10))\n",
    "plt.grid(which='major', linestyle='-', linewidth='0.5', color='green')\n",
    "plt.grid(which='minor', linestyle=':', linewidth='0.5', color='black')\n",
    "plt.show()"
   ]
  },
  {
   "cell_type": "code",
   "execution_count": 45,
   "metadata": {
    "ExecuteTime": {
     "end_time": "2020-04-02T20:09:47.387559Z",
     "start_time": "2020-04-02T20:09:47.255881Z"
    }
   },
   "outputs": [
    {
     "data": {
      "image/png": "[encoded data removed]",
      "text/plain": [
       "<Figure size 432x288 with 1 Axes>"
      ]
     },
     "metadata": {
      "needs_background": "light"
     },
     "output_type": "display_data"
    }
   ],
   "source": [
    "plt.scatter(X_test, y_test,  color='gray')\n",
    "plt.plot(X_test, y_pred, color='red', linewidth=2)\n",
    "plt.show()"
   ]
  },
  {
   "cell_type": "code",
   "execution_count": 47,
   "metadata": {
    "ExecuteTime": {
     "end_time": "2020-04-02T20:11:05.221673Z",
     "start_time": "2020-04-02T20:11:05.213695Z"
    }
   },
   "outputs": [
    {
     "name": "stdout",
     "output_type": "stream",
     "text": [
      "Mean Absolute Error: 142.3426738892485\n",
      "Mean Squared Error: 36857.78121245506\n",
      "Root Mean Squared Error: 191.9838045577154\n"
     ]
    }
   ],
   "source": [
    "from sklearn import metrics\n",
    "print('Mean Absolute Error:', metrics.mean_absolute_error(y_test, y_pred))  \n",
    "print('Mean Squared Error:', metrics.mean_squared_error(y_test, y_pred))  \n",
    "print('Root Mean Squared Error:', np.sqrt(metrics.mean_squared_error(y_test, y_pred)))"
   ]
  }
 ],
 "metadata": {
  "kernelspec": {
   "display_name": "Python 3",
   "language": "python",
   "name": "python3"
  },
  "language_info": {
   "codemirror_mode": {
    "name": "ipython",
    "version": 3
   },
   "file_extension": ".py",
   "mimetype": "text/x-python",
   "name": "python",
   "nbconvert_exporter": "python",
   "pygments_lexer": "ipython3",
   "version": "3.7.6"
  },
  "latex_envs": {
   "LaTeX_envs_menu_present": true,
   "autoclose": false,
   "autocomplete": true,
   "bibliofile": "biblio.bib",
   "cite_by": "apalike",
   "current_citInitial": 1,
   "eqLabelWithNumbers": true,
   "eqNumInitial": 1,
   "hotkeys": {
    "equation": "Ctrl-E",
    "itemize": "Ctrl-I"
   },
   "labels_anchors": false,
   "latex_user_defs": false,
   "report_style_numbering": false,
   "user_envs_cfg": false
  },
  "nbTranslate": {
   "displayLangs": [
    "*"
   ],
   "hotkey": "alt-t",
   "langInMainMenu": true,
   "sourceLang": "en",
   "targetLang": "fr",
   "useGoogleTranslate": true
  },
  "toc": {
   "base_numbering": 1,
   "nav_menu": {},
   "number_sections": true,
   "sideBar": true,
   "skip_h1_title": false,
   "title_cell": "Table of Contents",
   "title_sidebar": "Contents",
   "toc_cell": false,
   "toc_position": {},
   "toc_section_display": true,
   "toc_window_display": false
  },
  "varInspector": {
   "cols": {
    "lenName": 16,
    "lenType": 16,
    "lenVar": 40
   },
   "kernels_config": {
    "python": {
     "delete_cmd_postfix": "",
     "delete_cmd_prefix": "del ",
     "library": "var_list.py",
     "varRefreshCmd": "print(var_dic_list())"
    },
    "r": {
     "delete_cmd_postfix": ") ",
     "delete_cmd_prefix": "rm(",
     "library": "var_list.r",
     "varRefreshCmd": "cat(var_dic_list()) "
    }
   },
   "types_to_exclude": [
    "module",
    "function",
    "builtin_function_or_method",
    "instance",
    "_Feature"
   ],
   "window_display": false
  }
 },
 "nbformat": 4,
 "nbformat_minor": 2
}
